{
  "nbformat": 4,
  "nbformat_minor": 0,
  "metadata": {
    "colab": {
      "provenance": []
    },
    "kernelspec": {
      "name": "python3",
      "display_name": "Python 3"
    },
    "language_info": {
      "name": "python"
    }
  },
  "cells": [
    {
      "cell_type": "code",
      "source": [
        "categorica_ordinal = []\n",
        "categorica_nominal = []\n",
        "numerica_discreta = []\n",
        "numerica_continua = []\n",
        "\n",
        "print(\"Classificador de Variáveis\")\n",
        "print(\"(Digite 'sair'para encerrar)\\n\")\n",
        "\n",
        "\n",
        "while True:\n",
        "  n = input(\"Digite uma variável: \")\n",
        "\n",
        "  if n.lower() == 'sair':\n",
        "    break\n",
        "\n",
        "  resposta1 = input(\"Esssa variável é texto (S/N): \")\n",
        "\n",
        "  if resposta1 == \"S\".lower():\n",
        "    resposta2 = input(\"Essa variável é ordenavel (S/N): \")\n",
        "\n",
        "    if resposta2 == \"S\".lower():\n",
        "      categorica_ordinal.append(n)\n",
        "      print(f\"A variável {n} é Categórica Ordinal\")\n",
        "    else:\n",
        "      categorica_nominal.append(n)\n",
        "      print(f\"A variável {n} é Categórica Nominal\")\n",
        "  elif resposta1 == \"N\".lower():\n",
        "    resposta2 = input(\"Essa variável tem uma ordem natural (S/N): \")\n",
        "\n",
        "    if resposta2 == \"S\".lower():\n",
        "      numerica_continua.append(n)\n",
        "      print(f\"A variável {n} é Numérica Contínua\")\n",
        "    else:\n",
        "      numerica_discreta.append(n)\n",
        "      print(f\"A variável {n} é Numérica Discreta\")\n",
        "  else:\n",
        "    print(\"Digite (S/N)!\")\n",
        "    continue\n",
        "\n",
        "\n",
        "print(\"\\n=== Classificação das Variáveis ===\\n\")\n",
        "\n",
        "print(\"{:<18} {:<25}\".format(\"Variável\",\"classe\"))\n",
        "print(\"---------------------------------------\")\n",
        "for elemento in numerica_discreta:\n",
        "  print(\"{:<18} {:<25}\".format(elemento,\"Numérica discreta\"))\n",
        "for elemento in numerica_continua:\n",
        "  print(\"{:<18} {:<1}\".format(elemento,\"Numérica contínua\"))\n",
        "for elemento in categorica_nominal:\n",
        "  print(\"{:<18} {:<25}\".format(elemento,\"Categórica nominal\"))\n",
        "for elemento in categorica_ordinal:\n",
        "  print(\"{:<18} {:<25}\".format(elemento,\"Categórica ordinal\"))\n",
        "\n",
        "print(\"---------------------------------------\")"
      ],
      "metadata": {
        "id": "I2-EDc_NrAhQ"
      },
      "execution_count": null,
      "outputs": []
    }
  ]
}